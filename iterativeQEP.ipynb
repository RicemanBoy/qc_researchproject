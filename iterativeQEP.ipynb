{
 "cells": [
  {
   "cell_type": "code",
   "execution_count": 100,
   "metadata": {},
   "outputs": [],
   "source": [
    "from typing import Iterable\n",
    "\n",
    "import numpy as np\n",
    "from qiskit import QuantumCircuit\n",
    "from qiskit.circuit.library import UnitaryGate\n",
    "from scipy.linalg import expm\n",
    "\n",
    "def random_unitary_iter(r2:int):\n",
    "    r1 = 1\n",
    "    rham = np.random.rand(2**r2,2**r2) + 1j*np.random.rand(2**r2,2**r2)\n",
    "    rham += np.conj(np.transpose(rham))\n",
    "    irham = 1j*rham\n",
    "    rut=expm(irham)\n",
    "    rut/np.trace(rut)\n",
    "    return rut\n",
    "\n",
    "def controlled_U_gate(circ:QuantumCircuit, ctrl:int, targs:list, rut:np.ndarray)->None:\n",
    "    rut_gate=UnitaryGate(rut)\n",
    "    crut_gate = rut_gate.control(1)\n",
    "    circ.append(crut_gate,qargs=[ctrl,*targs])\n",
    "\n",
    "\n",
    "def sample_circuit(circuit: QuantumCircuit) -> dict:                #Von mir um den Circuit zu messen\n",
    "  n_shots = 1\n",
    "  statevector = Statevector.from_instruction(circuit)\n",
    "  outcomes = statevector.sample_counts(n_shots)\n",
    "  return outcomes\n"
   ]
  },
  {
   "cell_type": "code",
   "execution_count": 101,
   "metadata": {},
   "outputs": [],
   "source": [
    "from typing import Tuple\n",
    "\n",
    "from qiskit import QuantumRegister\n",
    "from qiskit.result import Counts\n",
    "from qiskit.circuit.library import QFT\n",
    "from qiskit.quantum_info import Statevector\n",
    "import matplotlib.pyplot as plt\n",
    "\n",
    "def plot_counts(counts:Counts):\n",
    "    plt.plot(\n",
    "        range(len(counts.int_outcomes().values())),\n",
    "        np.abs(list(counts.int_outcomes().values())),\n",
    "        \"rs:\",\n",
    "        markerfacecolor='none',\n",
    "        label=\"counts\"\n",
    "    )\n",
    "    plt.legend()\n",
    "    plt.show()\n",
    "\n",
    "def get_random_phase_and_psi(unitary:np.ndarray)->np.ndarray:\n",
    "    eigvals,eigvecs=np.linalg.eig(unitary)\n",
    "    idx = np.random.randint(0,len(eigvals))\n",
    "\n",
    "    # eigval = e^{2pi i theta}\n",
    "    eigval = eigvals[idx]\n",
    "    phase = np.real(-1j * np.log(eigval)/(2*np.pi))\n",
    "    phase = np.mod(phase,1)\n",
    "    psi = eigvecs[:,idx]\n",
    "    return phase,psi\n",
    "\n",
    "def qpe_circuit(r2:int, omega, outcome, k:int)->Tuple[QuantumCircuit,float]:\n",
    "    r1 = 1\n",
    "    first_register=QuantumRegister(r1,\"first\")\n",
    "    second_register=QuantumRegister(r2,\"second\")\n",
    "    third_register=QuantumRegister(1,\"third\")               #das wird der control qubit für die rotation, der speichert das vorherige Ergebnis ab\n",
    "\n",
    "    circ = QuantumCircuit(first_register,second_register,third_register)\n",
    "    circ.h(first_register)\n",
    "    if outcome == 1:\n",
    "        circ.x(third_register)\n",
    "\n",
    "    unitary = random_unitary_iter(r2)\n",
    "\n",
    "    get_phase_and_psi=True\n",
    "    if get_phase_and_psi:\n",
    "        phase,psi= get_random_phase_and_psi(unitary)\n",
    "        get_phase_and_psi=False\n",
    "\n",
    "    for l in range(2**k):\n",
    "        controlled_U_gate(circ=circ,ctrl=first_register,targs=second_register,rut=unitary)\n",
    "\n",
    "    #circ.append(QFT(num_qubits=len(first_register),inverse=True,do_swaps=True),qargs=first_register)\n",
    "    circ.crz(omega, third_register, first_register)\n",
    "    circ.h(first_register)\n",
    "\n",
    "    return circ,phase,psi\n",
    "\n",
    "def bitstring_idx_to_phase(index)->float:\n",
    "    bin(index)\n",
    "\n",
    "def get_phase_from_qpe_circuit(circ:QuantumCircuit,psi:np.ndarray)->float:\n",
    "\n",
    "    out_circ = circ.copy_empty_like()\n",
    "\n",
    "    out_circ.prepare_state(state=psi,qubits=circ.qregs[1])\n",
    "    out_circ.append(circ,qargs=circ.qubits)\n",
    "    statevector = Statevector.from_instruction(out_circ)\n",
    "\n",
    "    r1=len(out_circ.qregs[0])\n",
    "    counts=statevector.sample_counts(1000,qargs=range(r1))\n",
    "    bitstring =counts.most_frequent()\n",
    "\n",
    "    return np.sum([(int(v))*2**-(i+1) for i,v in enumerate(bitstring)])"
   ]
  },
  {
   "cell_type": "code",
   "execution_count": 103,
   "metadata": {},
   "outputs": [
    {
     "name": "stdout",
     "output_type": "stream",
     "text": [
      "trial 0 | correct: 0.24428, guess: 0.00000 err: 0.24428\n",
      "trial 1 | correct: 0.11288, guess: 0.50000 err: 0.38712\n",
      "trial 2 | correct: 0.96370, guess: 0.00000 err: 0.96370\n"
     ]
    }
   ],
   "source": [
    "outcome = 420               #irgend ne random zahl\n",
    "for trial in range(3):                         #in trial lasse ich den circuit einfach mehrmals für verscheiden unitaries laufen\n",
    "    real_phase = 0\n",
    "    for loop in range(3):                      #in loop mache ich 10 durchläufe um eine phase zu bestimmen\n",
    "        if loop == 0:\n",
    "            outcome = 1\n",
    "            omega = 0\n",
    "        circ,phase,psi = qpe_circuit(3, omega, outcome, loop)\n",
    "        computed_phase = get_phase_from_qpe_circuit(circ,psi)\n",
    "        omega = computed_phase\n",
    "        real_phase += omega\n",
    "        x = sample_circuit(circ)\n",
    "        #print_outcomes(outcomes)\n",
    "        outcome=420\n",
    "        for bitstring,counts in x.items():\n",
    "            outcome = max({counts})\n",
    "    print(f\"trial {trial} | correct: {phase:.5f}, guess: {computed_phase:.5f} err: {np.abs(phase-computed_phase):.5f}\")"
   ]
  },
  {
   "cell_type": "code",
   "execution_count": null,
   "metadata": {},
   "outputs": [
    {
     "name": "stdout",
     "output_type": "stream",
     "text": [
      "1\n"
     ]
    }
   ],
   "source": [
    "x = sample_circuit(circ)\n",
    "#print_outcomes(outcomes)\n",
    "outcome=420\n",
    "for bitstring,counts in x.items():\n",
    "   outcome = max({counts})\n",
    "print(outcome)"
   ]
  }
 ],
 "metadata": {
  "kernelspec": {
   "display_name": "Python 3",
   "language": "python",
   "name": "python3"
  },
  "language_info": {
   "codemirror_mode": {
    "name": "ipython",
    "version": 3
   },
   "file_extension": ".py",
   "mimetype": "text/x-python",
   "name": "python",
   "nbconvert_exporter": "python",
   "pygments_lexer": "ipython3",
   "version": "3.8.10"
  }
 },
 "nbformat": 4,
 "nbformat_minor": 2
}
