{
 "cells": [
  {
   "cell_type": "code",
   "execution_count": 1,
   "metadata": {},
   "outputs": [],
   "source": [
    "from typing import Iterable\n",
    "\n",
    "import numpy as np\n",
    "from qiskit import QuantumCircuit\n",
    "from qiskit.circuit.library import UnitaryGate\n",
    "from scipy.linalg import expm\n",
    "\n",
    "def random_unitary_iter(r1:int,r2:int)->Iterable:\n",
    "    rham = np.random.rand(2**r2,2**r2) + 1j*np.random.rand(2**r2,2**r2)\n",
    "    rham += np.conj(np.transpose(rham))\n",
    "    irham = 1j*rham\n",
    "    for m in range(r1):\n",
    "        rut=expm((2**m)*irham)\n",
    "        rut/np.trace(rut)\n",
    "        yield rut\n",
    "\n",
    "def controlled_U_gate(circ:QuantumCircuit,ctrl:int,targs:list,rut:np.ndarray)->None:\n",
    "    rut_gate=UnitaryGate(rut)\n",
    "    crut_gate = rut_gate.control(1)\n",
    "    circ.append(crut_gate,qargs=[ctrl,*targs])"
   ]
  },
  {
   "cell_type": "code",
   "execution_count": 2,
   "metadata": {},
   "outputs": [],
   "source": [
    "from typing import Tuple\n",
    "\n",
    "from qiskit import QuantumRegister\n",
    "from qiskit.result import Counts\n",
    "from qiskit.circuit.library import QFT\n",
    "from qiskit.quantum_info import Statevector\n",
    "import matplotlib.pyplot as plt\n",
    "\n",
    "def plot_counts(counts:Counts):\n",
    "    plt.plot(\n",
    "        range(len(counts.int_outcomes().values())),\n",
    "        np.abs(list(counts.int_outcomes().values())),\n",
    "        \"rs:\",\n",
    "        markerfacecolor='none',\n",
    "        label=\"counts\"\n",
    "    )\n",
    "    plt.legend()\n",
    "    plt.show()\n",
    "\n",
    "def get_random_phase_and_psi(unitary:np.ndarray)->np.ndarray:\n",
    "    eigvals,eigvecs=np.linalg.eig(unitary)\n",
    "    idx = np.random.randint(0,len(eigvals))\n",
    "\n",
    "    # eigval = e^{2pi i theta}\n",
    "    eigval = eigvals[idx]\n",
    "    phase = np.real(-1j * np.log(eigval)/(2*np.pi))\n",
    "    phase = np.mod(phase,1)\n",
    "    psi = eigvecs[:,idx]\n",
    "    return phase,psi\n",
    "\n",
    "def qpe_circuit(r1:int,r2:int)->Tuple[QuantumCircuit,float]:\n",
    "\n",
    "    first_register=QuantumRegister(r1,\"first\")\n",
    "    second_register=QuantumRegister(r2,\"second\")\n",
    "\n",
    "    circ = QuantumCircuit(first_register,second_register)\n",
    "    circ.h(first_register)\n",
    "\n",
    "    unitaries = random_unitary_iter(r1,r2)\n",
    "\n",
    "    get_phase_and_psi=True\n",
    "    for ind,unitary in enumerate(unitaries):\n",
    "        if get_phase_and_psi:\n",
    "            phase,psi= get_random_phase_and_psi(unitary)\n",
    "            get_phase_and_psi=False\n",
    "\n",
    "        controlled_U_gate(circ=circ,ctrl=ind,targs=second_register,rut=unitary)\n",
    "\n",
    "    circ.append(QFT(num_qubits=len(first_register),inverse=True,do_swaps=True),qargs=first_register)\n",
    "\n",
    "    return circ,phase,psi\n",
    "\n",
    "def bitstring_idx_to_phase(index)->float:\n",
    "    bin(index)\n",
    "\n",
    "def get_phase_from_qpe_circuit(circ:QuantumCircuit,psi:np.ndarray)->float:\n",
    "\n",
    "    out_circ = circ.copy_empty_like()\n",
    "\n",
    "    out_circ.prepare_state(state=psi,qubits=circ.qregs[1])\n",
    "    out_circ.append(circ,qargs=circ.qubits)\n",
    "    statevector = Statevector.from_instruction(out_circ)\n",
    "\n",
    "    r1=len(out_circ.qregs[0])\n",
    "    counts=statevector.sample_counts(1000,qargs=range(r1))\n",
    "    bitstring =counts.most_frequent()\n",
    "\n",
    "    return np.sum([(int(v))*2**-(i+1) for i,v in enumerate(bitstring)])"
   ]
  },
  {
   "cell_type": "code",
   "execution_count": 3,
   "metadata": {},
   "outputs": [
    {
     "name": "stdout",
     "output_type": "stream",
     "text": [
      "trial 0 | correct: 0.97163, guess: 0.00000 err: 0.97163\n",
      "trial 1 | correct: 0.15066, guess: 0.00000 err: 0.15066\n",
      "trial 2 | correct: 0.86997, guess: 0.00000 err: 0.86997\n",
      "trial 3 | correct: 0.03735, guess: 0.00000 err: 0.03735\n",
      "trial 4 | correct: 0.67710, guess: 0.50000 err: 0.17710\n",
      "trial 5 | correct: 0.59421, guess: 0.50000 err: 0.09421\n",
      "trial 6 | correct: 0.75082, guess: 0.00000 err: 0.75082\n",
      "trial 7 | correct: 0.14367, guess: 0.00000 err: 0.14367\n",
      "trial 8 | correct: 0.98424, guess: 0.00000 err: 0.98424\n",
      "trial 9 | correct: 0.82495, guess: 0.00000 err: 0.82495\n"
     ]
    }
   ],
   "source": [
    "for trial in range(10):\n",
    "    circ,phase,psi = qpe_circuit(1,2)\n",
    "    computed_phase = get_phase_from_qpe_circuit(circ,psi)\n",
    "    print(f\"trial {trial} | correct: {phase:.5f}, guess: {computed_phase:.5f} err: {np.abs(phase-computed_phase):.5f}\")"
   ]
  }
 ],
 "metadata": {
  "kernelspec": {
   "display_name": "Python 3",
   "language": "python",
   "name": "python3"
  },
  "language_info": {
   "codemirror_mode": {
    "name": "ipython",
    "version": 3
   },
   "file_extension": ".py",
   "mimetype": "text/x-python",
   "name": "python",
   "nbconvert_exporter": "python",
   "pygments_lexer": "ipython3",
   "version": "3.8.10"
  }
 },
 "nbformat": 4,
 "nbformat_minor": 2
}
