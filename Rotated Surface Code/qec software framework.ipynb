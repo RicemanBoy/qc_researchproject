{
 "cells": [
  {
   "cell_type": "code",
   "execution_count": 3,
   "metadata": {},
   "outputs": [
    {
     "name": "stdout",
     "output_type": "stream",
     "text": [
      "Defaulting to user installation because normal site-packages is not writeable\n",
      "Collecting git+https://github.com/qiskit-community/qiskit-qec.git\n",
      "  Cloning https://github.com/qiskit-community/qiskit-qec.git to /tmp/pip-req-build-tdo8lhb0\n",
      "  Running command git clone --filter=blob:none --quiet https://github.com/qiskit-community/qiskit-qec.git /tmp/pip-req-build-tdo8lhb0\n",
      "  Resolved https://github.com/qiskit-community/qiskit-qec.git to commit 3b624308335f91f87dafac5030e052263f5cf8d2\n",
      "  Running command git submodule update --init --recursive -q\n",
      "  Installing build dependencies ... \u001b[?25ldone\n",
      "\u001b[?25h  Getting requirements to build wheel ... \u001b[?25ldone\n",
      "\u001b[?25h  Preparing metadata (pyproject.toml) ... \u001b[?25ldone\n",
      "\u001b[?25hRequirement already satisfied: qiskit in /home/dustinseboldt/.local/lib/python3.10/site-packages (from qiskit_qec==0.0.1) (0.45.0)\n",
      "Requirement already satisfied: qiskit-aer>=0.11.0 in /home/dustinseboldt/.local/lib/python3.10/site-packages (from qiskit_qec==0.0.1) (0.14.2)\n",
      "Collecting qiskit-ibm-provider>=0.5.0 (from qiskit_qec==0.0.1)\n",
      "  Downloading qiskit_ibm_provider-0.11.0-py3-none-any.whl.metadata (7.6 kB)\n",
      "Collecting pybind11<=2.9.1 (from qiskit_qec==0.0.1)\n",
      "  Downloading pybind11-2.9.1-py2.py3-none-any.whl.metadata (9.5 kB)\n",
      "Collecting PyMatching!=2.0.0,>=0.6.0 (from qiskit_qec==0.0.1)\n",
      "  Downloading PyMatching-2.2.1-cp310-cp310-manylinux_2_17_x86_64.manylinux2014_x86_64.whl.metadata (16 kB)\n",
      "Requirement already satisfied: rustworkx>=0.12.0 in /home/dustinseboldt/.local/lib/python3.10/site-packages (from qiskit_qec==0.0.1) (0.15.1)\n",
      "Collecting networkx>=2.6.3 (from qiskit_qec==0.0.1)\n",
      "  Downloading networkx-3.3-py3-none-any.whl.metadata (5.1 kB)\n",
      "Requirement already satisfied: sympy>=1.9 in /home/dustinseboldt/.local/lib/python3.10/site-packages (from qiskit_qec==0.0.1) (1.13.2)\n",
      "Collecting testtools (from qiskit_qec==0.0.1)\n",
      "  Downloading testtools-2.7.2-py3-none-any.whl.metadata (5.2 kB)\n",
      "Requirement already satisfied: numpy>=1.21.0 in /home/dustinseboldt/.local/lib/python3.10/site-packages (from qiskit_qec==0.0.1) (1.23.5)\n",
      "Requirement already satisfied: ipython in /home/dustinseboldt/.local/lib/python3.10/site-packages (from qiskit_qec==0.0.1) (8.26.0)\n",
      "Requirement already satisfied: ipywidgets>=8.0.5 in /home/dustinseboldt/.local/lib/python3.10/site-packages (from qiskit_qec==0.0.1) (8.1.3)\n",
      "Collecting stim>=1.11.0 (from qiskit_qec==0.0.1)\n",
      "  Downloading stim-1.13.0-cp310-cp310-manylinux_2_17_x86_64.manylinux2014_x86_64.whl.metadata (4.2 kB)\n",
      "Requirement already satisfied: comm>=0.1.3 in /home/dustinseboldt/.local/lib/python3.10/site-packages (from ipywidgets>=8.0.5->qiskit_qec==0.0.1) (0.2.2)\n",
      "Requirement already satisfied: traitlets>=4.3.1 in /home/dustinseboldt/.local/lib/python3.10/site-packages (from ipywidgets>=8.0.5->qiskit_qec==0.0.1) (5.14.3)\n",
      "Requirement already satisfied: widgetsnbextension~=4.0.11 in /home/dustinseboldt/.local/lib/python3.10/site-packages (from ipywidgets>=8.0.5->qiskit_qec==0.0.1) (4.0.11)\n",
      "Requirement already satisfied: jupyterlab-widgets~=3.0.11 in /home/dustinseboldt/.local/lib/python3.10/site-packages (from ipywidgets>=8.0.5->qiskit_qec==0.0.1) (3.0.11)\n",
      "Requirement already satisfied: decorator in /home/dustinseboldt/.local/lib/python3.10/site-packages (from ipython->qiskit_qec==0.0.1) (5.1.1)\n",
      "Requirement already satisfied: jedi>=0.16 in /home/dustinseboldt/.local/lib/python3.10/site-packages (from ipython->qiskit_qec==0.0.1) (0.19.1)\n",
      "Requirement already satisfied: matplotlib-inline in /home/dustinseboldt/.local/lib/python3.10/site-packages (from ipython->qiskit_qec==0.0.1) (0.1.7)\n",
      "Requirement already satisfied: prompt-toolkit<3.1.0,>=3.0.41 in /home/dustinseboldt/.local/lib/python3.10/site-packages (from ipython->qiskit_qec==0.0.1) (3.0.47)\n",
      "Requirement already satisfied: pygments>=2.4.0 in /home/dustinseboldt/.local/lib/python3.10/site-packages (from ipython->qiskit_qec==0.0.1) (2.18.0)\n",
      "Requirement already satisfied: stack-data in /home/dustinseboldt/.local/lib/python3.10/site-packages (from ipython->qiskit_qec==0.0.1) (0.6.3)\n",
      "Requirement already satisfied: exceptiongroup in /home/dustinseboldt/.local/lib/python3.10/site-packages (from ipython->qiskit_qec==0.0.1) (1.2.2)\n",
      "Requirement already satisfied: typing-extensions>=4.6 in /home/dustinseboldt/.local/lib/python3.10/site-packages (from ipython->qiskit_qec==0.0.1) (4.12.2)\n",
      "Requirement already satisfied: pexpect>4.3 in /usr/lib/python3/dist-packages (from ipython->qiskit_qec==0.0.1) (4.8.0)\n",
      "Requirement already satisfied: scipy in /home/dustinseboldt/.local/lib/python3.10/site-packages (from PyMatching!=2.0.0,>=0.6.0->qiskit_qec==0.0.1) (1.14.0)\n",
      "Requirement already satisfied: matplotlib in /home/dustinseboldt/.local/lib/python3.10/site-packages (from PyMatching!=2.0.0,>=0.6.0->qiskit_qec==0.0.1) (3.9.2)\n",
      "Collecting qiskit (from qiskit_qec==0.0.1)\n",
      "  Downloading qiskit-1.2.0-cp38-abi3-manylinux_2_17_x86_64.manylinux2014_x86_64.whl.metadata (12 kB)\n",
      "Requirement already satisfied: psutil>=5 in /home/dustinseboldt/.local/lib/python3.10/site-packages (from qiskit-aer>=0.11.0->qiskit_qec==0.0.1) (6.0.0)\n",
      "Requirement already satisfied: dill>=0.3 in /home/dustinseboldt/.local/lib/python3.10/site-packages (from qiskit->qiskit_qec==0.0.1) (0.3.8)\n",
      "Requirement already satisfied: python-dateutil>=2.8.0 in /home/dustinseboldt/.local/lib/python3.10/site-packages (from qiskit->qiskit_qec==0.0.1) (2.9.0.post0)\n",
      "Requirement already satisfied: stevedore>=3.0.0 in /home/dustinseboldt/.local/lib/python3.10/site-packages (from qiskit->qiskit_qec==0.0.1) (5.2.0)\n",
      "Collecting symengine>=0.11 (from qiskit->qiskit_qec==0.0.1)\n",
      "  Downloading symengine-0.11.0-cp310-cp310-manylinux_2_12_x86_64.manylinux2010_x86_64.whl.metadata (1.2 kB)\n",
      "Requirement already satisfied: requests>=2.19 in /home/dustinseboldt/.local/lib/python3.10/site-packages (from qiskit-ibm-provider>=0.5.0->qiskit_qec==0.0.1) (2.32.3)\n",
      "Requirement already satisfied: requests-ntlm>=1.1.0 in /home/dustinseboldt/.local/lib/python3.10/site-packages (from qiskit-ibm-provider>=0.5.0->qiskit_qec==0.0.1) (1.1.0)\n",
      "Requirement already satisfied: urllib3>=1.21.1 in /home/dustinseboldt/.local/lib/python3.10/site-packages (from qiskit-ibm-provider>=0.5.0->qiskit_qec==0.0.1) (2.2.2)\n",
      "Requirement already satisfied: websocket-client>=1.5.1 in /home/dustinseboldt/.local/lib/python3.10/site-packages (from qiskit-ibm-provider>=0.5.0->qiskit_qec==0.0.1) (1.8.0)\n",
      "Requirement already satisfied: websockets>=10.0 in /home/dustinseboldt/.local/lib/python3.10/site-packages (from qiskit-ibm-provider>=0.5.0->qiskit_qec==0.0.1) (12.0)\n",
      "Requirement already satisfied: mpmath<1.4,>=1.1.0 in /home/dustinseboldt/.local/lib/python3.10/site-packages (from sympy>=1.9->qiskit_qec==0.0.1) (1.3.0)\n",
      "Requirement already satisfied: parso<0.9.0,>=0.8.3 in /home/dustinseboldt/.local/lib/python3.10/site-packages (from jedi>=0.16->ipython->qiskit_qec==0.0.1) (0.8.4)\n",
      "Requirement already satisfied: wcwidth in /home/dustinseboldt/.local/lib/python3.10/site-packages (from prompt-toolkit<3.1.0,>=3.0.41->ipython->qiskit_qec==0.0.1) (0.2.13)\n",
      "Requirement already satisfied: six>=1.5 in /usr/lib/python3/dist-packages (from python-dateutil>=2.8.0->qiskit->qiskit_qec==0.0.1) (1.16.0)\n",
      "Requirement already satisfied: charset-normalizer<4,>=2 in /home/dustinseboldt/.local/lib/python3.10/site-packages (from requests>=2.19->qiskit-ibm-provider>=0.5.0->qiskit_qec==0.0.1) (3.3.2)\n",
      "Requirement already satisfied: idna<4,>=2.5 in /usr/lib/python3/dist-packages (from requests>=2.19->qiskit-ibm-provider>=0.5.0->qiskit_qec==0.0.1) (3.3)\n",
      "Requirement already satisfied: certifi>=2017.4.17 in /usr/lib/python3/dist-packages (from requests>=2.19->qiskit-ibm-provider>=0.5.0->qiskit_qec==0.0.1) (2020.6.20)\n",
      "Requirement already satisfied: ntlm-auth>=1.0.2 in /home/dustinseboldt/.local/lib/python3.10/site-packages (from requests-ntlm>=1.1.0->qiskit-ibm-provider>=0.5.0->qiskit_qec==0.0.1) (1.5.0)\n",
      "Requirement already satisfied: cryptography>=1.3 in /usr/lib/python3/dist-packages (from requests-ntlm>=1.1.0->qiskit-ibm-provider>=0.5.0->qiskit_qec==0.0.1) (3.4.8)\n",
      "Requirement already satisfied: pbr!=2.1.0,>=2.0.0 in /home/dustinseboldt/.local/lib/python3.10/site-packages (from stevedore>=3.0.0->qiskit->qiskit_qec==0.0.1) (6.0.0)\n",
      "Requirement already satisfied: contourpy>=1.0.1 in /home/dustinseboldt/.local/lib/python3.10/site-packages (from matplotlib->PyMatching!=2.0.0,>=0.6.0->qiskit_qec==0.0.1) (1.2.1)\n",
      "Requirement already satisfied: cycler>=0.10 in /home/dustinseboldt/.local/lib/python3.10/site-packages (from matplotlib->PyMatching!=2.0.0,>=0.6.0->qiskit_qec==0.0.1) (0.12.1)\n",
      "Requirement already satisfied: fonttools>=4.22.0 in /home/dustinseboldt/.local/lib/python3.10/site-packages (from matplotlib->PyMatching!=2.0.0,>=0.6.0->qiskit_qec==0.0.1) (4.53.1)\n",
      "Requirement already satisfied: kiwisolver>=1.3.1 in /home/dustinseboldt/.local/lib/python3.10/site-packages (from matplotlib->PyMatching!=2.0.0,>=0.6.0->qiskit_qec==0.0.1) (1.4.5)\n",
      "Requirement already satisfied: packaging>=20.0 in /home/dustinseboldt/.local/lib/python3.10/site-packages (from matplotlib->PyMatching!=2.0.0,>=0.6.0->qiskit_qec==0.0.1) (24.1)\n",
      "Requirement already satisfied: pillow>=8 in /usr/lib/python3/dist-packages (from matplotlib->PyMatching!=2.0.0,>=0.6.0->qiskit_qec==0.0.1) (9.0.1)\n",
      "Requirement already satisfied: pyparsing>=2.3.1 in /usr/lib/python3/dist-packages (from matplotlib->PyMatching!=2.0.0,>=0.6.0->qiskit_qec==0.0.1) (2.4.7)\n",
      "Requirement already satisfied: executing>=1.2.0 in /home/dustinseboldt/.local/lib/python3.10/site-packages (from stack-data->ipython->qiskit_qec==0.0.1) (2.0.1)\n",
      "Requirement already satisfied: asttokens>=2.1.0 in /home/dustinseboldt/.local/lib/python3.10/site-packages (from stack-data->ipython->qiskit_qec==0.0.1) (2.4.1)\n",
      "Requirement already satisfied: pure-eval in /home/dustinseboldt/.local/lib/python3.10/site-packages (from stack-data->ipython->qiskit_qec==0.0.1) (0.2.3)\n",
      "Downloading networkx-3.3-py3-none-any.whl (1.7 MB)\n",
      "\u001b[2K   \u001b[90m━━━━━━━━━━━━━━━━━━━━━━━━━━━━━━━━━━━━━━━━\u001b[0m \u001b[32m1.7/1.7 MB\u001b[0m \u001b[31m89.8 MB/s\u001b[0m eta \u001b[36m0:00:00\u001b[0m\n",
      "\u001b[?25hDownloading pybind11-2.9.1-py2.py3-none-any.whl (211 kB)\n",
      "Downloading PyMatching-2.2.1-cp310-cp310-manylinux_2_17_x86_64.manylinux2014_x86_64.whl (619 kB)\n",
      "\u001b[2K   \u001b[90m━━━━━━━━━━━━━━━━━━━━━━━━━━━━━━━━━━━━━━━\u001b[0m \u001b[32m619.4/619.4 kB\u001b[0m \u001b[31m120.0 MB/s\u001b[0m eta \u001b[36m0:00:00\u001b[0m\n",
      "\u001b[?25hDownloading qiskit-1.2.0-cp38-abi3-manylinux_2_17_x86_64.manylinux2014_x86_64.whl (4.8 MB)\n",
      "\u001b[2K   \u001b[90m━━━━━━━━━━━━━━━━━━━━━━━━━━━━━━━━━━━━━━━━\u001b[0m \u001b[32m4.8/4.8 MB\u001b[0m \u001b[31m119.5 MB/s\u001b[0m eta \u001b[36m0:00:00\u001b[0m\n",
      "\u001b[?25hDownloading qiskit_ibm_provider-0.11.0-py3-none-any.whl (249 kB)\n",
      "Downloading stim-1.13.0-cp310-cp310-manylinux_2_17_x86_64.manylinux2014_x86_64.whl (4.3 MB)\n",
      "\u001b[2K   \u001b[90m━━━━━━━━━━━━━━━━━━━━━━━━━━━━━━━━━━━━━━━━\u001b[0m \u001b[32m4.3/4.3 MB\u001b[0m \u001b[31m118.3 MB/s\u001b[0m eta \u001b[36m0:00:00\u001b[0m\n",
      "\u001b[?25hDownloading testtools-2.7.2-py3-none-any.whl (179 kB)\n",
      "Downloading symengine-0.11.0-cp310-cp310-manylinux_2_12_x86_64.manylinux2010_x86_64.whl (39.4 MB)\n",
      "\u001b[2K   \u001b[90m━━━━━━━━━━━━━━━━━━━━━━━━━━━━━━━━━━━━━━━━\u001b[0m \u001b[32m39.4/39.4 MB\u001b[0m \u001b[31m117.2 MB/s\u001b[0m eta \u001b[36m0:00:00\u001b[0ma \u001b[36m0:00:01\u001b[0m\n",
      "\u001b[?25hBuilding wheels for collected packages: qiskit_qec\n",
      "  Building wheel for qiskit_qec (pyproject.toml) ... \u001b[?25ldone\n",
      "\u001b[?25h  Created wheel for qiskit_qec: filename=qiskit_qec-0.0.1-cp310-cp310-linux_x86_64.whl size=756959 sha256=a6e7fdfbe8628652610a2639409c272c763d223e7cfca3a3f8511355d582a023\n",
      "  Stored in directory: /tmp/pip-ephem-wheel-cache-c07tqz_w/wheels/36/14/2e/5d0413d58819b8dae37fd6194729e6e9e9b8c911ad6b3ca0f5\n",
      "Successfully built qiskit_qec\n",
      "Installing collected packages: testtools, symengine, stim, pybind11, networkx, qiskit, qiskit-ibm-provider, PyMatching, qiskit_qec\n",
      "  Attempting uninstall: symengine\n",
      "    Found existing installation: symengine 0.9.2\n",
      "    Uninstalling symengine-0.9.2:\n",
      "      Successfully uninstalled symengine-0.9.2\n",
      "  Attempting uninstall: qiskit\n",
      "    Found existing installation: qiskit 0.45.0\n",
      "    Uninstalling qiskit-0.45.0:\n",
      "      Successfully uninstalled qiskit-0.45.0\n",
      "\u001b[31mERROR: pip's dependency resolver does not currently take into account all the packages that are installed. This behaviour is the source of the following dependency conflicts.\n",
      "qiskit-terra 0.45.0 requires symengine<0.10,>=0.9; platform_machine == \"x86_64\" or platform_machine == \"aarch64\" or platform_machine == \"ppc64le\" or platform_machine == \"amd64\" or platform_machine == \"arm64\", but you have symengine 0.11.0 which is incompatible.\u001b[0m\u001b[31m\n",
      "\u001b[0mSuccessfully installed PyMatching-2.2.1 networkx-3.3 pybind11-2.9.1 qiskit-1.2.0 qiskit-ibm-provider-0.11.0 qiskit_qec-0.0.1 stim-1.13.0 symengine-0.11.0 testtools-2.7.2\n",
      "Note: you may need to restart the kernel to use updated packages.\n"
     ]
    }
   ],
   "source": [
    "pip install --no-cache --upgrade git+https://github.com/qiskit-community/qiskit-qec.git"
   ]
  },
  {
   "cell_type": "code",
   "execution_count": 1,
   "metadata": {},
   "outputs": [
    {
     "ename": "ImportError",
     "evalue": "Qiskit is installed in an invalid environment that has both Qiskit >=1.0 and an earlier version. You should create a new virtual environment, and ensure that you do not mix dependencies between Qiskit <1.0 and >=1.0. Any packages that depend on 'qiskit-terra' are not compatible with Qiskit 1.0 and will need to be updated. Qiskit unfortunately cannot enforce this requirement during environment resolution. See https://qisk.it/packaging-1-0 for more detail.",
     "output_type": "error",
     "traceback": [
      "\u001b[0;31m---------------------------------------------------------------------------\u001b[0m",
      "\u001b[0;31mImportError\u001b[0m                               Traceback (most recent call last)",
      "Cell \u001b[0;32mIn[1], line 1\u001b[0m\n\u001b[0;32m----> 1\u001b[0m \u001b[38;5;28;01mfrom\u001b[39;00m \u001b[38;5;21;01mqiskit\u001b[39;00m \u001b[38;5;28;01mimport\u001b[39;00m ClassicalRegister, QuantumCircuit, QuantumRegister\n\u001b[1;32m      2\u001b[0m \u001b[38;5;28;01mfrom\u001b[39;00m \u001b[38;5;21;01mqiskit\u001b[39;00m\u001b[38;5;21;01m.\u001b[39;00m\u001b[38;5;21;01mvisualization\u001b[39;00m \u001b[38;5;28;01mimport\u001b[39;00m plot_histogram\n\u001b[1;32m      3\u001b[0m \u001b[38;5;28;01mimport\u001b[39;00m \u001b[38;5;21;01mnumpy\u001b[39;00m \u001b[38;5;28;01mas\u001b[39;00m \u001b[38;5;21;01mnp\u001b[39;00m\n",
      "File \u001b[0;32m~/.local/lib/python3.10/site-packages/qiskit/__init__.py:36\u001b[0m\n\u001b[1;32m     34\u001b[0m     _suppress_error \u001b[38;5;241m=\u001b[39m os\u001b[38;5;241m.\u001b[39menviron\u001b[38;5;241m.\u001b[39mget(\u001b[38;5;124m\"\u001b[39m\u001b[38;5;124mQISKIT_SUPPRESS_1_0_IMPORT_ERROR\u001b[39m\u001b[38;5;124m\"\u001b[39m, \u001b[38;5;28;01mFalse\u001b[39;00m) \u001b[38;5;241m==\u001b[39m \u001b[38;5;124m\"\u001b[39m\u001b[38;5;124m1\u001b[39m\u001b[38;5;124m\"\u001b[39m\n\u001b[1;32m     35\u001b[0m     \u001b[38;5;28;01mif\u001b[39;00m \u001b[38;5;129;01mnot\u001b[39;00m _suppress_error \u001b[38;5;129;01mand\u001b[39;00m _has_tools:\n\u001b[0;32m---> 36\u001b[0m         \u001b[38;5;28;01mraise\u001b[39;00m \u001b[38;5;167;01mImportError\u001b[39;00m(\n\u001b[1;32m     37\u001b[0m             \u001b[38;5;124m\"\u001b[39m\u001b[38;5;124mQiskit is installed in an invalid environment that has both Qiskit >=1.0\u001b[39m\u001b[38;5;124m\"\u001b[39m\n\u001b[1;32m     38\u001b[0m             \u001b[38;5;124m\"\u001b[39m\u001b[38;5;124m and an earlier version.\u001b[39m\u001b[38;5;124m\"\u001b[39m\n\u001b[1;32m     39\u001b[0m             \u001b[38;5;124m\"\u001b[39m\u001b[38;5;124m You should create a new virtual environment, and ensure that you do not mix\u001b[39m\u001b[38;5;124m\"\u001b[39m\n\u001b[1;32m     40\u001b[0m             \u001b[38;5;124m\"\u001b[39m\u001b[38;5;124m dependencies between Qiskit <1.0 and >=1.0.\u001b[39m\u001b[38;5;124m\"\u001b[39m\n\u001b[1;32m     41\u001b[0m             \u001b[38;5;124m\"\u001b[39m\u001b[38;5;124m Any packages that depend on \u001b[39m\u001b[38;5;124m'\u001b[39m\u001b[38;5;124mqiskit-terra\u001b[39m\u001b[38;5;124m'\u001b[39m\u001b[38;5;124m are not compatible with Qiskit 1.0 and\u001b[39m\u001b[38;5;124m\"\u001b[39m\n\u001b[1;32m     42\u001b[0m             \u001b[38;5;124m\"\u001b[39m\u001b[38;5;124m will need to be updated.\u001b[39m\u001b[38;5;124m\"\u001b[39m\n\u001b[1;32m     43\u001b[0m             \u001b[38;5;124m\"\u001b[39m\u001b[38;5;124m Qiskit unfortunately cannot enforce this requirement during environment resolution.\u001b[39m\u001b[38;5;124m\"\u001b[39m\n\u001b[1;32m     44\u001b[0m             \u001b[38;5;124m\"\u001b[39m\u001b[38;5;124m See https://qisk.it/packaging-1-0 for more detail.\u001b[39m\u001b[38;5;124m\"\u001b[39m\n\u001b[1;32m     45\u001b[0m         )\n\u001b[1;32m     46\u001b[0m \u001b[38;5;28;01mif\u001b[39;00m sys\u001b[38;5;241m.\u001b[39mversion_info \u001b[38;5;241m<\u001b[39m (\u001b[38;5;241m3\u001b[39m, \u001b[38;5;241m9\u001b[39m):\n\u001b[1;32m     47\u001b[0m     warnings\u001b[38;5;241m.\u001b[39mwarn(\n\u001b[1;32m     48\u001b[0m         \u001b[38;5;124m\"\u001b[39m\u001b[38;5;124mUsing Qiskit with Python 3.8 is deprecated as of the 1.1.0 release. \u001b[39m\u001b[38;5;124m\"\u001b[39m\n\u001b[1;32m     49\u001b[0m         \u001b[38;5;124m\"\u001b[39m\u001b[38;5;124mSupport for running Qiskit with Python 3.8 will be removed in the \u001b[39m\u001b[38;5;124m\"\u001b[39m\n\u001b[1;32m     50\u001b[0m         \u001b[38;5;124m\"\u001b[39m\u001b[38;5;124m1.3.0 release, which coincides with when Python 3.8 goes end of life.\u001b[39m\u001b[38;5;124m\"\u001b[39m,\n\u001b[1;32m     51\u001b[0m         \u001b[38;5;167;01mDeprecationWarning\u001b[39;00m,\n\u001b[1;32m     52\u001b[0m     )\n",
      "\u001b[0;31mImportError\u001b[0m: Qiskit is installed in an invalid environment that has both Qiskit >=1.0 and an earlier version. You should create a new virtual environment, and ensure that you do not mix dependencies between Qiskit <1.0 and >=1.0. Any packages that depend on 'qiskit-terra' are not compatible with Qiskit 1.0 and will need to be updated. Qiskit unfortunately cannot enforce this requirement during environment resolution. See https://qisk.it/packaging-1-0 for more detail."
     ]
    }
   ],
   "source": [
    "from qiskit import ClassicalRegister, QuantumCircuit, QuantumRegister\n",
    "from qiskit.visualization import plot_histogram\n",
    "import numpy as np\n",
    "import matplotlib.pyplot as plt\n",
    "import bitstring\n",
    "from qiskit_aer import AerSimulator"
   ]
  },
  {
   "cell_type": "code",
   "execution_count": 5,
   "metadata": {},
   "outputs": [
    {
     "ename": "ModuleNotFoundError",
     "evalue": "No module named 'qiskit_aer.noise.errors.base_quantum_error'",
     "output_type": "error",
     "traceback": [
      "\u001b[0;31m---------------------------------------------------------------------------\u001b[0m",
      "\u001b[0;31mModuleNotFoundError\u001b[0m                       Traceback (most recent call last)",
      "Cell \u001b[0;32mIn[5], line 1\u001b[0m\n\u001b[0;32m----> 1\u001b[0m \u001b[38;5;28;01mfrom\u001b[39;00m \u001b[38;5;21;01mqiskit_qec\u001b[39;00m\u001b[38;5;21;01m.\u001b[39;00m\u001b[38;5;21;01mcodes\u001b[39;00m\u001b[38;5;21;01m.\u001b[39;00m\u001b[38;5;21;01mstabsubsystemcodes\u001b[39;00m \u001b[38;5;28;01mimport\u001b[39;00m StabSubSystemCode\n\u001b[1;32m      2\u001b[0m \u001b[38;5;28;01mfrom\u001b[39;00m \u001b[38;5;21;01mqiskit_qec\u001b[39;00m\u001b[38;5;21;01m.\u001b[39;00m\u001b[38;5;21;01mlinear\u001b[39;00m\u001b[38;5;21;01m.\u001b[39;00m\u001b[38;5;21;01msymplectic\u001b[39;00m \u001b[38;5;28;01mimport\u001b[39;00m make_isotropic_hyperbolic_form\n\u001b[1;32m      4\u001b[0m G \u001b[38;5;241m=\u001b[39m GaugeGroup(PauliList([\u001b[38;5;124m\"\u001b[39m\u001b[38;5;124mX1Y3\u001b[39m\u001b[38;5;124m\"\u001b[39m, \u001b[38;5;124m\"\u001b[39m\u001b[38;5;124mX2X3Y4\u001b[39m\u001b[38;5;124m\"\u001b[39m, \u001b[38;5;124m\"\u001b[39m\u001b[38;5;124mZ1Z5\u001b[39m\u001b[38;5;124m\"\u001b[39m]))\n",
      "File \u001b[0;32m~/.local/lib/python3.10/site-packages/qiskit_qec/__init__.py:17\u001b[0m\n\u001b[1;32m     14\u001b[0m \u001b[38;5;28;01mimport\u001b[39;00m \u001b[38;5;21;01mlogging\u001b[39;00m\n\u001b[1;32m     15\u001b[0m \u001b[38;5;28;01mfrom\u001b[39;00m \u001b[38;5;21;01mlogging\u001b[39;00m \u001b[38;5;28;01mimport\u001b[39;00m NullHandler\n\u001b[0;32m---> 17\u001b[0m \u001b[38;5;28;01mfrom\u001b[39;00m \u001b[38;5;21;01m.\u001b[39;00m \u001b[38;5;28;01mimport\u001b[39;00m (\n\u001b[1;32m     18\u001b[0m     circuits,\n\u001b[1;32m     19\u001b[0m     codes,\n\u001b[1;32m     20\u001b[0m     decoders,\n\u001b[1;32m     21\u001b[0m     exceptions,\n\u001b[1;32m     22\u001b[0m     geometry,\n\u001b[1;32m     23\u001b[0m     info,\n\u001b[1;32m     24\u001b[0m     linear,\n\u001b[1;32m     25\u001b[0m     operators,\n\u001b[1;32m     26\u001b[0m     structures,\n\u001b[1;32m     27\u001b[0m     test,\n\u001b[1;32m     28\u001b[0m     utils,\n\u001b[1;32m     29\u001b[0m )\n\u001b[1;32m     31\u001b[0m logging\u001b[38;5;241m.\u001b[39mgetLogger(\u001b[38;5;18m__name__\u001b[39m)\u001b[38;5;241m.\u001b[39maddHandler(NullHandler())\n",
      "File \u001b[0;32m~/.local/lib/python3.10/site-packages/qiskit_qec/circuits/__init__.py:34\u001b[0m\n\u001b[1;32m     13\u001b[0m \u001b[38;5;124;03m\"\"\"\u001b[39;00m\n\u001b[1;32m     14\u001b[0m \u001b[38;5;124;03m=====================================\u001b[39;00m\n\u001b[1;32m     15\u001b[0m \u001b[38;5;124;03mCircuits (:mod:`qiskit_qec.circuits`)\u001b[39;00m\n\u001b[0;32m   (...)\u001b[0m\n\u001b[1;32m     30\u001b[0m \u001b[38;5;124;03m    CSSCodeCircuit\u001b[39;00m\n\u001b[1;32m     31\u001b[0m \u001b[38;5;124;03m\"\"\"\u001b[39;00m\n\u001b[1;32m     33\u001b[0m \u001b[38;5;28;01mfrom\u001b[39;00m \u001b[38;5;21;01m.\u001b[39;00m\u001b[38;5;21;01mcode_circuit\u001b[39;00m \u001b[38;5;28;01mimport\u001b[39;00m CodeCircuit\n\u001b[0;32m---> 34\u001b[0m \u001b[38;5;28;01mfrom\u001b[39;00m \u001b[38;5;21;01m.\u001b[39;00m\u001b[38;5;21;01mrepetition_code\u001b[39;00m \u001b[38;5;28;01mimport\u001b[39;00m RepetitionCodeCircuit, ArcCircuit\n\u001b[1;32m     35\u001b[0m \u001b[38;5;28;01mfrom\u001b[39;00m \u001b[38;5;21;01m.\u001b[39;00m\u001b[38;5;21;01msurface_code\u001b[39;00m \u001b[38;5;28;01mimport\u001b[39;00m SurfaceCodeCircuit\n\u001b[1;32m     36\u001b[0m \u001b[38;5;28;01mfrom\u001b[39;00m \u001b[38;5;21;01m.\u001b[39;00m\u001b[38;5;21;01mcss_code\u001b[39;00m \u001b[38;5;28;01mimport\u001b[39;00m CSSCodeCircuit\n",
      "File \u001b[0;32m~/.local/lib/python3.10/site-packages/qiskit_qec/circuits/repetition_code.py:28\u001b[0m\n\u001b[1;32m     25\u001b[0m \u001b[38;5;28;01mfrom\u001b[39;00m \u001b[38;5;21;01mqiskit\u001b[39;00m \u001b[38;5;28;01mimport\u001b[39;00m ClassicalRegister, QuantumCircuit, QuantumRegister, transpile\n\u001b[1;32m     27\u001b[0m \u001b[38;5;28;01mfrom\u001b[39;00m \u001b[38;5;21;01mqiskit_qec\u001b[39;00m\u001b[38;5;21;01m.\u001b[39;00m\u001b[38;5;21;01mcircuits\u001b[39;00m\u001b[38;5;21;01m.\u001b[39;00m\u001b[38;5;21;01mcode_circuit\u001b[39;00m \u001b[38;5;28;01mimport\u001b[39;00m CodeCircuit\n\u001b[0;32m---> 28\u001b[0m \u001b[38;5;28;01mfrom\u001b[39;00m \u001b[38;5;21;01mqiskit_qec\u001b[39;00m\u001b[38;5;21;01m.\u001b[39;00m\u001b[38;5;21;01mutils\u001b[39;00m \u001b[38;5;28;01mimport\u001b[39;00m DecodingGraphEdge, DecodingGraphNode\n\u001b[1;32m     29\u001b[0m \u001b[38;5;28;01mfrom\u001b[39;00m \u001b[38;5;21;01mqiskit_qec\u001b[39;00m\u001b[38;5;21;01m.\u001b[39;00m\u001b[38;5;21;01mutils\u001b[39;00m\u001b[38;5;21;01m.\u001b[39;00m\u001b[38;5;21;01mdecoding_graph_attributes\u001b[39;00m \u001b[38;5;28;01mimport\u001b[39;00m _nodes2cpp\n\u001b[1;32m     30\u001b[0m \u001b[38;5;28;01mfrom\u001b[39;00m \u001b[38;5;21;01mqiskit_qec\u001b[39;00m\u001b[38;5;21;01m.\u001b[39;00m\u001b[38;5;21;01mcircuits\u001b[39;00m\u001b[38;5;21;01m.\u001b[39;00m\u001b[38;5;21;01m_c_circuits\u001b[39;00m \u001b[38;5;28;01mimport\u001b[39;00m _c_check_nodes, _c_is_cluster_neutral\n",
      "File \u001b[0;32m~/.local/lib/python3.10/site-packages/qiskit_qec/utils/__init__.py:38\u001b[0m\n\u001b[1;32m     13\u001b[0m \u001b[38;5;124;03m\"\"\"\u001b[39;00m\n\u001b[1;32m     14\u001b[0m \u001b[38;5;124;03m===============================\u001b[39;00m\n\u001b[1;32m     15\u001b[0m \u001b[38;5;124;03mUtils (:mod:`qiskit_qec.utils`)\u001b[39;00m\n\u001b[0;32m   (...)\u001b[0m\n\u001b[1;32m     33\u001b[0m \u001b[38;5;124;03m    DecodingGraphEdge\u001b[39;00m\n\u001b[1;32m     34\u001b[0m \u001b[38;5;124;03m\"\"\"\u001b[39;00m\n\u001b[1;32m     36\u001b[0m \u001b[38;5;28;01mfrom\u001b[39;00m \u001b[38;5;21;01m.\u001b[39;00m \u001b[38;5;28;01mimport\u001b[39;00m indexer, pauli_rep, visualizations\n\u001b[0;32m---> 38\u001b[0m \u001b[38;5;28;01mfrom\u001b[39;00m \u001b[38;5;21;01m.\u001b[39;00m\u001b[38;5;21;01mstim_tools\u001b[39;00m \u001b[38;5;28;01mimport\u001b[39;00m get_counts_via_stim, get_stim_circuits, noisify_circuit\n\u001b[1;32m     39\u001b[0m \u001b[38;5;28;01mfrom\u001b[39;00m \u001b[38;5;21;01m.\u001b[39;00m\u001b[38;5;21;01mdecoding_graph_attributes\u001b[39;00m \u001b[38;5;28;01mimport\u001b[39;00m DecodingGraphNode, DecodingGraphEdge\n",
      "File \u001b[0;32m~/.local/lib/python3.10/site-packages/qiskit_qec/utils/stim_tools.py:31\u001b[0m\n\u001b[1;32m     28\u001b[0m \u001b[38;5;28;01mimport\u001b[39;00m \u001b[38;5;21;01mrustworkx\u001b[39;00m \u001b[38;5;28;01mas\u001b[39;00m \u001b[38;5;21;01mrx\u001b[39;00m\n\u001b[1;32m     30\u001b[0m \u001b[38;5;28;01mfrom\u001b[39;00m \u001b[38;5;21;01mqiskit\u001b[39;00m \u001b[38;5;28;01mimport\u001b[39;00m QuantumCircuit\n\u001b[0;32m---> 31\u001b[0m \u001b[38;5;28;01mfrom\u001b[39;00m \u001b[38;5;21;01mqiskit_aer\u001b[39;00m\u001b[38;5;21;01m.\u001b[39;00m\u001b[38;5;21;01mnoise\u001b[39;00m\u001b[38;5;21;01m.\u001b[39;00m\u001b[38;5;21;01merrors\u001b[39;00m\u001b[38;5;21;01m.\u001b[39;00m\u001b[38;5;21;01mbase_quantum_error\u001b[39;00m \u001b[38;5;28;01mimport\u001b[39;00m QuantumChannelInstruction\n\u001b[1;32m     32\u001b[0m \u001b[38;5;28;01mfrom\u001b[39;00m \u001b[38;5;21;01mqiskit_aer\u001b[39;00m\u001b[38;5;21;01m.\u001b[39;00m\u001b[38;5;21;01mnoise\u001b[39;00m \u001b[38;5;28;01mimport\u001b[39;00m pauli_error\n\u001b[1;32m     33\u001b[0m \u001b[38;5;28;01mfrom\u001b[39;00m \u001b[38;5;21;01mqiskit_qec\u001b[39;00m\u001b[38;5;21;01m.\u001b[39;00m\u001b[38;5;21;01mutils\u001b[39;00m\u001b[38;5;21;01m.\u001b[39;00m\u001b[38;5;21;01mdecoding_graph_attributes\u001b[39;00m \u001b[38;5;28;01mimport\u001b[39;00m (\n\u001b[1;32m     34\u001b[0m     DecodingGraphNode,\n\u001b[1;32m     35\u001b[0m     DecodingGraphEdge,\n\u001b[1;32m     36\u001b[0m )\n",
      "\u001b[0;31mModuleNotFoundError\u001b[0m: No module named 'qiskit_aer.noise.errors.base_quantum_error'"
     ]
    }
   ],
   "source": [
    "from qiskit_qec.codes.stabsubsystemcodes import StabSubSystemCode\n",
    "from qiskit_qec.linear.symplectic import make_isotropic_hyperbolic_form\n",
    "\n",
    "G = GaugeGroup(PauliList([\"X1Y3\", \"X2X3Y4\", \"Z1Z5\"]))\n",
    "code = StabSubSystemCode(G)\n",
    "\n",
    "cen, x, z = make_isotropic_hyperbolic_form(G.generators.matrix)\n",
    "print(f\"G={PauliList(cen) + PauliList(x) + PauliList(z)}\")"
   ]
  },
  {
   "cell_type": "code",
   "execution_count": 6,
   "metadata": {},
   "outputs": [
    {
     "ename": "ModuleNotFoundError",
     "evalue": "No module named 'qiskit_aer.noise.errors.base_quantum_error'",
     "output_type": "error",
     "traceback": [
      "\u001b[0;31m---------------------------------------------------------------------------\u001b[0m",
      "\u001b[0;31mModuleNotFoundError\u001b[0m                       Traceback (most recent call last)",
      "Cell \u001b[0;32mIn[6], line 1\u001b[0m\n\u001b[0;32m----> 1\u001b[0m \u001b[38;5;28;01mfrom\u001b[39;00m \u001b[38;5;21;01mqiskit_qec\u001b[39;00m\u001b[38;5;21;01m.\u001b[39;00m\u001b[38;5;21;01mcodes\u001b[39;00m\u001b[38;5;21;01m.\u001b[39;00m\u001b[38;5;21;01mcodebuilders\u001b[39;00m\u001b[38;5;21;01m.\u001b[39;00m\u001b[38;5;21;01msubsystem_surface_code_builder\u001b[39;00m \u001b[38;5;28;01mimport\u001b[39;00m SubsystemSurfaceCodeBuilder\n\u001b[1;32m      3\u001b[0m code \u001b[38;5;241m=\u001b[39m SubsystemSurfaceCodeBuilder(d\u001b[38;5;241m=\u001b[39m\u001b[38;5;241m5\u001b[39m)\u001b[38;5;241m.\u001b[39mbuild()\n\u001b[1;32m      4\u001b[0m code\u001b[38;5;241m.\u001b[39mdraw(face_colors\u001b[38;5;241m=\u001b[39m\u001b[38;5;28;01mFalse\u001b[39;00m, xcolor\u001b[38;5;241m=\u001b[39m\u001b[38;5;124m\"\u001b[39m\u001b[38;5;124mlightcoral\u001b[39m\u001b[38;5;124m\"\u001b[39m, zcolor\u001b[38;5;241m=\u001b[39m\u001b[38;5;124m\"\u001b[39m\u001b[38;5;124mskyblue\u001b[39m\u001b[38;5;124m\"\u001b[39m, figsize\u001b[38;5;241m=\u001b[39m(\u001b[38;5;241m5\u001b[39m, \u001b[38;5;241m5\u001b[39m))\n",
      "File \u001b[0;32m~/.local/lib/python3.10/site-packages/qiskit_qec/__init__.py:17\u001b[0m\n\u001b[1;32m     14\u001b[0m \u001b[38;5;28;01mimport\u001b[39;00m \u001b[38;5;21;01mlogging\u001b[39;00m\n\u001b[1;32m     15\u001b[0m \u001b[38;5;28;01mfrom\u001b[39;00m \u001b[38;5;21;01mlogging\u001b[39;00m \u001b[38;5;28;01mimport\u001b[39;00m NullHandler\n\u001b[0;32m---> 17\u001b[0m \u001b[38;5;28;01mfrom\u001b[39;00m \u001b[38;5;21;01m.\u001b[39;00m \u001b[38;5;28;01mimport\u001b[39;00m (\n\u001b[1;32m     18\u001b[0m     circuits,\n\u001b[1;32m     19\u001b[0m     codes,\n\u001b[1;32m     20\u001b[0m     decoders,\n\u001b[1;32m     21\u001b[0m     exceptions,\n\u001b[1;32m     22\u001b[0m     geometry,\n\u001b[1;32m     23\u001b[0m     info,\n\u001b[1;32m     24\u001b[0m     linear,\n\u001b[1;32m     25\u001b[0m     operators,\n\u001b[1;32m     26\u001b[0m     structures,\n\u001b[1;32m     27\u001b[0m     test,\n\u001b[1;32m     28\u001b[0m     utils,\n\u001b[1;32m     29\u001b[0m )\n\u001b[1;32m     31\u001b[0m logging\u001b[38;5;241m.\u001b[39mgetLogger(\u001b[38;5;18m__name__\u001b[39m)\u001b[38;5;241m.\u001b[39maddHandler(NullHandler())\n",
      "File \u001b[0;32m~/.local/lib/python3.10/site-packages/qiskit_qec/circuits/__init__.py:34\u001b[0m\n\u001b[1;32m     13\u001b[0m \u001b[38;5;124;03m\"\"\"\u001b[39;00m\n\u001b[1;32m     14\u001b[0m \u001b[38;5;124;03m=====================================\u001b[39;00m\n\u001b[1;32m     15\u001b[0m \u001b[38;5;124;03mCircuits (:mod:`qiskit_qec.circuits`)\u001b[39;00m\n\u001b[0;32m   (...)\u001b[0m\n\u001b[1;32m     30\u001b[0m \u001b[38;5;124;03m    CSSCodeCircuit\u001b[39;00m\n\u001b[1;32m     31\u001b[0m \u001b[38;5;124;03m\"\"\"\u001b[39;00m\n\u001b[1;32m     33\u001b[0m \u001b[38;5;28;01mfrom\u001b[39;00m \u001b[38;5;21;01m.\u001b[39;00m\u001b[38;5;21;01mcode_circuit\u001b[39;00m \u001b[38;5;28;01mimport\u001b[39;00m CodeCircuit\n\u001b[0;32m---> 34\u001b[0m \u001b[38;5;28;01mfrom\u001b[39;00m \u001b[38;5;21;01m.\u001b[39;00m\u001b[38;5;21;01mrepetition_code\u001b[39;00m \u001b[38;5;28;01mimport\u001b[39;00m RepetitionCodeCircuit, ArcCircuit\n\u001b[1;32m     35\u001b[0m \u001b[38;5;28;01mfrom\u001b[39;00m \u001b[38;5;21;01m.\u001b[39;00m\u001b[38;5;21;01msurface_code\u001b[39;00m \u001b[38;5;28;01mimport\u001b[39;00m SurfaceCodeCircuit\n\u001b[1;32m     36\u001b[0m \u001b[38;5;28;01mfrom\u001b[39;00m \u001b[38;5;21;01m.\u001b[39;00m\u001b[38;5;21;01mcss_code\u001b[39;00m \u001b[38;5;28;01mimport\u001b[39;00m CSSCodeCircuit\n",
      "File \u001b[0;32m~/.local/lib/python3.10/site-packages/qiskit_qec/circuits/repetition_code.py:28\u001b[0m\n\u001b[1;32m     25\u001b[0m \u001b[38;5;28;01mfrom\u001b[39;00m \u001b[38;5;21;01mqiskit\u001b[39;00m \u001b[38;5;28;01mimport\u001b[39;00m ClassicalRegister, QuantumCircuit, QuantumRegister, transpile\n\u001b[1;32m     27\u001b[0m \u001b[38;5;28;01mfrom\u001b[39;00m \u001b[38;5;21;01mqiskit_qec\u001b[39;00m\u001b[38;5;21;01m.\u001b[39;00m\u001b[38;5;21;01mcircuits\u001b[39;00m\u001b[38;5;21;01m.\u001b[39;00m\u001b[38;5;21;01mcode_circuit\u001b[39;00m \u001b[38;5;28;01mimport\u001b[39;00m CodeCircuit\n\u001b[0;32m---> 28\u001b[0m \u001b[38;5;28;01mfrom\u001b[39;00m \u001b[38;5;21;01mqiskit_qec\u001b[39;00m\u001b[38;5;21;01m.\u001b[39;00m\u001b[38;5;21;01mutils\u001b[39;00m \u001b[38;5;28;01mimport\u001b[39;00m DecodingGraphEdge, DecodingGraphNode\n\u001b[1;32m     29\u001b[0m \u001b[38;5;28;01mfrom\u001b[39;00m \u001b[38;5;21;01mqiskit_qec\u001b[39;00m\u001b[38;5;21;01m.\u001b[39;00m\u001b[38;5;21;01mutils\u001b[39;00m\u001b[38;5;21;01m.\u001b[39;00m\u001b[38;5;21;01mdecoding_graph_attributes\u001b[39;00m \u001b[38;5;28;01mimport\u001b[39;00m _nodes2cpp\n\u001b[1;32m     30\u001b[0m \u001b[38;5;28;01mfrom\u001b[39;00m \u001b[38;5;21;01mqiskit_qec\u001b[39;00m\u001b[38;5;21;01m.\u001b[39;00m\u001b[38;5;21;01mcircuits\u001b[39;00m\u001b[38;5;21;01m.\u001b[39;00m\u001b[38;5;21;01m_c_circuits\u001b[39;00m \u001b[38;5;28;01mimport\u001b[39;00m _c_check_nodes, _c_is_cluster_neutral\n",
      "File \u001b[0;32m~/.local/lib/python3.10/site-packages/qiskit_qec/utils/__init__.py:38\u001b[0m\n\u001b[1;32m     13\u001b[0m \u001b[38;5;124;03m\"\"\"\u001b[39;00m\n\u001b[1;32m     14\u001b[0m \u001b[38;5;124;03m===============================\u001b[39;00m\n\u001b[1;32m     15\u001b[0m \u001b[38;5;124;03mUtils (:mod:`qiskit_qec.utils`)\u001b[39;00m\n\u001b[0;32m   (...)\u001b[0m\n\u001b[1;32m     33\u001b[0m \u001b[38;5;124;03m    DecodingGraphEdge\u001b[39;00m\n\u001b[1;32m     34\u001b[0m \u001b[38;5;124;03m\"\"\"\u001b[39;00m\n\u001b[1;32m     36\u001b[0m \u001b[38;5;28;01mfrom\u001b[39;00m \u001b[38;5;21;01m.\u001b[39;00m \u001b[38;5;28;01mimport\u001b[39;00m indexer, pauli_rep, visualizations\n\u001b[0;32m---> 38\u001b[0m \u001b[38;5;28;01mfrom\u001b[39;00m \u001b[38;5;21;01m.\u001b[39;00m\u001b[38;5;21;01mstim_tools\u001b[39;00m \u001b[38;5;28;01mimport\u001b[39;00m get_counts_via_stim, get_stim_circuits, noisify_circuit\n\u001b[1;32m     39\u001b[0m \u001b[38;5;28;01mfrom\u001b[39;00m \u001b[38;5;21;01m.\u001b[39;00m\u001b[38;5;21;01mdecoding_graph_attributes\u001b[39;00m \u001b[38;5;28;01mimport\u001b[39;00m DecodingGraphNode, DecodingGraphEdge\n",
      "File \u001b[0;32m~/.local/lib/python3.10/site-packages/qiskit_qec/utils/stim_tools.py:31\u001b[0m\n\u001b[1;32m     28\u001b[0m \u001b[38;5;28;01mimport\u001b[39;00m \u001b[38;5;21;01mrustworkx\u001b[39;00m \u001b[38;5;28;01mas\u001b[39;00m \u001b[38;5;21;01mrx\u001b[39;00m\n\u001b[1;32m     30\u001b[0m \u001b[38;5;28;01mfrom\u001b[39;00m \u001b[38;5;21;01mqiskit\u001b[39;00m \u001b[38;5;28;01mimport\u001b[39;00m QuantumCircuit\n\u001b[0;32m---> 31\u001b[0m \u001b[38;5;28;01mfrom\u001b[39;00m \u001b[38;5;21;01mqiskit_aer\u001b[39;00m\u001b[38;5;21;01m.\u001b[39;00m\u001b[38;5;21;01mnoise\u001b[39;00m\u001b[38;5;21;01m.\u001b[39;00m\u001b[38;5;21;01merrors\u001b[39;00m\u001b[38;5;21;01m.\u001b[39;00m\u001b[38;5;21;01mbase_quantum_error\u001b[39;00m \u001b[38;5;28;01mimport\u001b[39;00m QuantumChannelInstruction\n\u001b[1;32m     32\u001b[0m \u001b[38;5;28;01mfrom\u001b[39;00m \u001b[38;5;21;01mqiskit_aer\u001b[39;00m\u001b[38;5;21;01m.\u001b[39;00m\u001b[38;5;21;01mnoise\u001b[39;00m \u001b[38;5;28;01mimport\u001b[39;00m pauli_error\n\u001b[1;32m     33\u001b[0m \u001b[38;5;28;01mfrom\u001b[39;00m \u001b[38;5;21;01mqiskit_qec\u001b[39;00m\u001b[38;5;21;01m.\u001b[39;00m\u001b[38;5;21;01mutils\u001b[39;00m\u001b[38;5;21;01m.\u001b[39;00m\u001b[38;5;21;01mdecoding_graph_attributes\u001b[39;00m \u001b[38;5;28;01mimport\u001b[39;00m (\n\u001b[1;32m     34\u001b[0m     DecodingGraphNode,\n\u001b[1;32m     35\u001b[0m     DecodingGraphEdge,\n\u001b[1;32m     36\u001b[0m )\n",
      "\u001b[0;31mModuleNotFoundError\u001b[0m: No module named 'qiskit_aer.noise.errors.base_quantum_error'"
     ]
    }
   ],
   "source": [
    "from qiskit_qec.codes.codebuilders.subsystem_surface_code_builder import SubsystemSurfaceCodeBuilder\n",
    "\n",
    "code = SubsystemSurfaceCodeBuilder(d=5).build()\n",
    "code.draw(face_colors=False, xcolor=\"lightcoral\", zcolor=\"skyblue\", figsize=(5, 5))"
   ]
  },
  {
   "cell_type": "code",
   "execution_count": 7,
   "metadata": {},
   "outputs": [
    {
     "ename": "ModuleNotFoundError",
     "evalue": "No module named 'qiskit_aer.noise.errors.base_quantum_error'",
     "output_type": "error",
     "traceback": [
      "\u001b[0;31m---------------------------------------------------------------------------\u001b[0m",
      "\u001b[0;31mModuleNotFoundError\u001b[0m                       Traceback (most recent call last)",
      "Cell \u001b[0;32mIn[7], line 1\u001b[0m\n\u001b[0;32m----> 1\u001b[0m \u001b[38;5;28;01mfrom\u001b[39;00m \u001b[38;5;21;01mqiskit_qec\u001b[39;00m\u001b[38;5;21;01m.\u001b[39;00m\u001b[38;5;21;01mstructures\u001b[39;00m\u001b[38;5;21;01m.\u001b[39;00m\u001b[38;5;21;01mgauge\u001b[39;00m \u001b[38;5;28;01mimport\u001b[39;00m GaugeGroup\n\u001b[1;32m      3\u001b[0m matrix \u001b[38;5;241m=\u001b[39m np\u001b[38;5;241m.\u001b[39marray(\n\u001b[1;32m      4\u001b[0m     [\n\u001b[1;32m      5\u001b[0m         [\u001b[38;5;241m1\u001b[39m, \u001b[38;5;241m1\u001b[39m, \u001b[38;5;241m1\u001b[39m, \u001b[38;5;241m1\u001b[39m, \u001b[38;5;241m0\u001b[39m, \u001b[38;5;241m0\u001b[39m, \u001b[38;5;241m0\u001b[39m, \u001b[38;5;241m0\u001b[39m, \u001b[38;5;241m0\u001b[39m, \u001b[38;5;241m0\u001b[39m, \u001b[38;5;241m0\u001b[39m, \u001b[38;5;241m0\u001b[39m, \u001b[38;5;241m0\u001b[39m, \u001b[38;5;241m0\u001b[39m],\n\u001b[0;32m   (...)\u001b[0m\n\u001b[1;32m      8\u001b[0m     ]\n\u001b[1;32m      9\u001b[0m )\n\u001b[1;32m     11\u001b[0m generators \u001b[38;5;241m=\u001b[39m PauliList(matrix)\n",
      "File \u001b[0;32m~/.local/lib/python3.10/site-packages/qiskit_qec/__init__.py:17\u001b[0m\n\u001b[1;32m     14\u001b[0m \u001b[38;5;28;01mimport\u001b[39;00m \u001b[38;5;21;01mlogging\u001b[39;00m\n\u001b[1;32m     15\u001b[0m \u001b[38;5;28;01mfrom\u001b[39;00m \u001b[38;5;21;01mlogging\u001b[39;00m \u001b[38;5;28;01mimport\u001b[39;00m NullHandler\n\u001b[0;32m---> 17\u001b[0m \u001b[38;5;28;01mfrom\u001b[39;00m \u001b[38;5;21;01m.\u001b[39;00m \u001b[38;5;28;01mimport\u001b[39;00m (\n\u001b[1;32m     18\u001b[0m     circuits,\n\u001b[1;32m     19\u001b[0m     codes,\n\u001b[1;32m     20\u001b[0m     decoders,\n\u001b[1;32m     21\u001b[0m     exceptions,\n\u001b[1;32m     22\u001b[0m     geometry,\n\u001b[1;32m     23\u001b[0m     info,\n\u001b[1;32m     24\u001b[0m     linear,\n\u001b[1;32m     25\u001b[0m     operators,\n\u001b[1;32m     26\u001b[0m     structures,\n\u001b[1;32m     27\u001b[0m     test,\n\u001b[1;32m     28\u001b[0m     utils,\n\u001b[1;32m     29\u001b[0m )\n\u001b[1;32m     31\u001b[0m logging\u001b[38;5;241m.\u001b[39mgetLogger(\u001b[38;5;18m__name__\u001b[39m)\u001b[38;5;241m.\u001b[39maddHandler(NullHandler())\n",
      "File \u001b[0;32m~/.local/lib/python3.10/site-packages/qiskit_qec/circuits/__init__.py:34\u001b[0m\n\u001b[1;32m     13\u001b[0m \u001b[38;5;124;03m\"\"\"\u001b[39;00m\n\u001b[1;32m     14\u001b[0m \u001b[38;5;124;03m=====================================\u001b[39;00m\n\u001b[1;32m     15\u001b[0m \u001b[38;5;124;03mCircuits (:mod:`qiskit_qec.circuits`)\u001b[39;00m\n\u001b[0;32m   (...)\u001b[0m\n\u001b[1;32m     30\u001b[0m \u001b[38;5;124;03m    CSSCodeCircuit\u001b[39;00m\n\u001b[1;32m     31\u001b[0m \u001b[38;5;124;03m\"\"\"\u001b[39;00m\n\u001b[1;32m     33\u001b[0m \u001b[38;5;28;01mfrom\u001b[39;00m \u001b[38;5;21;01m.\u001b[39;00m\u001b[38;5;21;01mcode_circuit\u001b[39;00m \u001b[38;5;28;01mimport\u001b[39;00m CodeCircuit\n\u001b[0;32m---> 34\u001b[0m \u001b[38;5;28;01mfrom\u001b[39;00m \u001b[38;5;21;01m.\u001b[39;00m\u001b[38;5;21;01mrepetition_code\u001b[39;00m \u001b[38;5;28;01mimport\u001b[39;00m RepetitionCodeCircuit, ArcCircuit\n\u001b[1;32m     35\u001b[0m \u001b[38;5;28;01mfrom\u001b[39;00m \u001b[38;5;21;01m.\u001b[39;00m\u001b[38;5;21;01msurface_code\u001b[39;00m \u001b[38;5;28;01mimport\u001b[39;00m SurfaceCodeCircuit\n\u001b[1;32m     36\u001b[0m \u001b[38;5;28;01mfrom\u001b[39;00m \u001b[38;5;21;01m.\u001b[39;00m\u001b[38;5;21;01mcss_code\u001b[39;00m \u001b[38;5;28;01mimport\u001b[39;00m CSSCodeCircuit\n",
      "File \u001b[0;32m~/.local/lib/python3.10/site-packages/qiskit_qec/circuits/repetition_code.py:28\u001b[0m\n\u001b[1;32m     25\u001b[0m \u001b[38;5;28;01mfrom\u001b[39;00m \u001b[38;5;21;01mqiskit\u001b[39;00m \u001b[38;5;28;01mimport\u001b[39;00m ClassicalRegister, QuantumCircuit, QuantumRegister, transpile\n\u001b[1;32m     27\u001b[0m \u001b[38;5;28;01mfrom\u001b[39;00m \u001b[38;5;21;01mqiskit_qec\u001b[39;00m\u001b[38;5;21;01m.\u001b[39;00m\u001b[38;5;21;01mcircuits\u001b[39;00m\u001b[38;5;21;01m.\u001b[39;00m\u001b[38;5;21;01mcode_circuit\u001b[39;00m \u001b[38;5;28;01mimport\u001b[39;00m CodeCircuit\n\u001b[0;32m---> 28\u001b[0m \u001b[38;5;28;01mfrom\u001b[39;00m \u001b[38;5;21;01mqiskit_qec\u001b[39;00m\u001b[38;5;21;01m.\u001b[39;00m\u001b[38;5;21;01mutils\u001b[39;00m \u001b[38;5;28;01mimport\u001b[39;00m DecodingGraphEdge, DecodingGraphNode\n\u001b[1;32m     29\u001b[0m \u001b[38;5;28;01mfrom\u001b[39;00m \u001b[38;5;21;01mqiskit_qec\u001b[39;00m\u001b[38;5;21;01m.\u001b[39;00m\u001b[38;5;21;01mutils\u001b[39;00m\u001b[38;5;21;01m.\u001b[39;00m\u001b[38;5;21;01mdecoding_graph_attributes\u001b[39;00m \u001b[38;5;28;01mimport\u001b[39;00m _nodes2cpp\n\u001b[1;32m     30\u001b[0m \u001b[38;5;28;01mfrom\u001b[39;00m \u001b[38;5;21;01mqiskit_qec\u001b[39;00m\u001b[38;5;21;01m.\u001b[39;00m\u001b[38;5;21;01mcircuits\u001b[39;00m\u001b[38;5;21;01m.\u001b[39;00m\u001b[38;5;21;01m_c_circuits\u001b[39;00m \u001b[38;5;28;01mimport\u001b[39;00m _c_check_nodes, _c_is_cluster_neutral\n",
      "File \u001b[0;32m~/.local/lib/python3.10/site-packages/qiskit_qec/utils/__init__.py:38\u001b[0m\n\u001b[1;32m     13\u001b[0m \u001b[38;5;124;03m\"\"\"\u001b[39;00m\n\u001b[1;32m     14\u001b[0m \u001b[38;5;124;03m===============================\u001b[39;00m\n\u001b[1;32m     15\u001b[0m \u001b[38;5;124;03mUtils (:mod:`qiskit_qec.utils`)\u001b[39;00m\n\u001b[0;32m   (...)\u001b[0m\n\u001b[1;32m     33\u001b[0m \u001b[38;5;124;03m    DecodingGraphEdge\u001b[39;00m\n\u001b[1;32m     34\u001b[0m \u001b[38;5;124;03m\"\"\"\u001b[39;00m\n\u001b[1;32m     36\u001b[0m \u001b[38;5;28;01mfrom\u001b[39;00m \u001b[38;5;21;01m.\u001b[39;00m \u001b[38;5;28;01mimport\u001b[39;00m indexer, pauli_rep, visualizations\n\u001b[0;32m---> 38\u001b[0m \u001b[38;5;28;01mfrom\u001b[39;00m \u001b[38;5;21;01m.\u001b[39;00m\u001b[38;5;21;01mstim_tools\u001b[39;00m \u001b[38;5;28;01mimport\u001b[39;00m get_counts_via_stim, get_stim_circuits, noisify_circuit\n\u001b[1;32m     39\u001b[0m \u001b[38;5;28;01mfrom\u001b[39;00m \u001b[38;5;21;01m.\u001b[39;00m\u001b[38;5;21;01mdecoding_graph_attributes\u001b[39;00m \u001b[38;5;28;01mimport\u001b[39;00m DecodingGraphNode, DecodingGraphEdge\n",
      "File \u001b[0;32m~/.local/lib/python3.10/site-packages/qiskit_qec/utils/stim_tools.py:31\u001b[0m\n\u001b[1;32m     28\u001b[0m \u001b[38;5;28;01mimport\u001b[39;00m \u001b[38;5;21;01mrustworkx\u001b[39;00m \u001b[38;5;28;01mas\u001b[39;00m \u001b[38;5;21;01mrx\u001b[39;00m\n\u001b[1;32m     30\u001b[0m \u001b[38;5;28;01mfrom\u001b[39;00m \u001b[38;5;21;01mqiskit\u001b[39;00m \u001b[38;5;28;01mimport\u001b[39;00m QuantumCircuit\n\u001b[0;32m---> 31\u001b[0m \u001b[38;5;28;01mfrom\u001b[39;00m \u001b[38;5;21;01mqiskit_aer\u001b[39;00m\u001b[38;5;21;01m.\u001b[39;00m\u001b[38;5;21;01mnoise\u001b[39;00m\u001b[38;5;21;01m.\u001b[39;00m\u001b[38;5;21;01merrors\u001b[39;00m\u001b[38;5;21;01m.\u001b[39;00m\u001b[38;5;21;01mbase_quantum_error\u001b[39;00m \u001b[38;5;28;01mimport\u001b[39;00m QuantumChannelInstruction\n\u001b[1;32m     32\u001b[0m \u001b[38;5;28;01mfrom\u001b[39;00m \u001b[38;5;21;01mqiskit_aer\u001b[39;00m\u001b[38;5;21;01m.\u001b[39;00m\u001b[38;5;21;01mnoise\u001b[39;00m \u001b[38;5;28;01mimport\u001b[39;00m pauli_error\n\u001b[1;32m     33\u001b[0m \u001b[38;5;28;01mfrom\u001b[39;00m \u001b[38;5;21;01mqiskit_qec\u001b[39;00m\u001b[38;5;21;01m.\u001b[39;00m\u001b[38;5;21;01mutils\u001b[39;00m\u001b[38;5;21;01m.\u001b[39;00m\u001b[38;5;21;01mdecoding_graph_attributes\u001b[39;00m \u001b[38;5;28;01mimport\u001b[39;00m (\n\u001b[1;32m     34\u001b[0m     DecodingGraphNode,\n\u001b[1;32m     35\u001b[0m     DecodingGraphEdge,\n\u001b[1;32m     36\u001b[0m )\n",
      "\u001b[0;31mModuleNotFoundError\u001b[0m: No module named 'qiskit_aer.noise.errors.base_quantum_error'"
     ]
    }
   ],
   "source": [
    "from qiskit_qec.structures.gauge import GaugeGroup\n",
    "\n",
    "matrix = np.array(\n",
    "    [\n",
    "        [1, 1, 1, 1, 0, 0, 0, 0, 0, 0, 0, 0, 0, 0],\n",
    "        [0, 0, 0, 0, 0, 0, 0, 1, 1, 1, 1, 0, 0, 0],\n",
    "        [0, 1, 0, 1, 1, 1, 0, 0, 0, 0, 0, 0, 0, 0],\n",
    "    ]\n",
    ")\n",
    "\n",
    "generators = PauliList(matrix)\n",
    "gauge_group = GaugeGroup(generators)\n",
    "print(f\"G = ⟨{gauge_group.generators}⟩\")"
   ]
  }
 ],
 "metadata": {
  "kernelspec": {
   "display_name": "Python 3",
   "language": "python",
   "name": "python3"
  },
  "language_info": {
   "codemirror_mode": {
    "name": "ipython",
    "version": 3
   },
   "file_extension": ".py",
   "mimetype": "text/x-python",
   "name": "python",
   "nbconvert_exporter": "python",
   "pygments_lexer": "ipython3",
   "version": "3.10.12"
  }
 },
 "nbformat": 4,
 "nbformat_minor": 2
}
